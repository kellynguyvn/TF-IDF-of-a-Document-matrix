{
  "nbformat": 4,
  "nbformat_minor": 0,
  "metadata": {
    "colab": {
      "provenance": []
    },
    "kernelspec": {
      "name": "python3",
      "display_name": "Python 3"
    },
    "language_info": {
      "name": "python"
    }
  },
  "cells": [
    {
      "cell_type": "markdown",
      "source": [
        "# TF-IDF of a Document matrix"
      ],
      "metadata": {
        "id": "IsZMWpFUJI0u"
      }
    },
    {
      "cell_type": "code",
      "execution_count": 1,
      "metadata": {
        "id": "tqSb7ooMJGVt"
      },
      "outputs": [],
      "source": [
        "import pandas as pd\n",
        "from sklearn.feature_extraction.text import TfidfTransformer"
      ]
    },
    {
      "cell_type": "code",
      "source": [
        "# Given term frequency matrix\n",
        "tf_matrix = [\n",
        "    [0, 4, 10, 8, 0, 5, 0],\n",
        "    [5, 19, 7, 16, 0, 0, 32],\n",
        "    [15, 0, 0, 4, 9, 0, 17],\n",
        "    [22, 3, 12, 0, 5, 15, 0],\n",
        "    [0, 7, 0, 9, 2, 4, 12]\n",
        "]\n"
      ],
      "metadata": {
        "id": "9d5T2nEdLpsN"
      },
      "execution_count": 2,
      "outputs": []
    },
    {
      "cell_type": "code",
      "source": [
        "# Initialize TF-IDF transformer\n",
        "tfidf_transformer = TfidfTransformer()"
      ],
      "metadata": {
        "id": "qYkg8WJ9LjIK"
      },
      "execution_count": 3,
      "outputs": []
    },
    {
      "cell_type": "code",
      "source": [
        "# Fit and transform the given term frequency matrix\n",
        "tfidf_matrix = tfidf_transformer.fit_transform(tf_matrix)"
      ],
      "metadata": {
        "id": "IZdEBbS0LlTX"
      },
      "execution_count": 4,
      "outputs": []
    },
    {
      "cell_type": "code",
      "source": [
        "# Create a DataFrame for easier access to TF-IDF values\n",
        "tfidf_df = pd.DataFrame(tfidf_matrix.toarray(), columns=[f't{i}' for i in range(1, 8)])"
      ],
      "metadata": {
        "id": "Jd-leNChLmps"
      },
      "execution_count": 5,
      "outputs": []
    },
    {
      "cell_type": "code",
      "source": [
        "# Calculate specific TF-IDF values\n",
        "tf_d2_t3 = tfidf_df.loc[1, 't3']\n",
        "tf_d4_t6 = tfidf_df.loc[3, 't6']\n",
        "tf_d5_t7 = tfidf_df.loc[4, 't7']\n",
        "\n",
        "(tf_d2_t3, tf_d4_t6, tf_d5_t7)\n"
      ],
      "metadata": {
        "colab": {
          "base_uri": "https://localhost:8080/"
        },
        "id": "p-OVtsmxLoBU",
        "outputId": "9911dbca-50c1-4eae-e26d-86c1199a56ca"
      },
      "execution_count": 6,
      "outputs": [
        {
          "output_type": "execute_result",
          "data": {
            "text/plain": [
              "(0.17868817697641853, 0.5043993233050684, 0.7500041568025464)"
            ]
          },
          "metadata": {},
          "execution_count": 6
        }
      ]
    }
  ]
}